{
  "nbformat": 4,
  "nbformat_minor": 0,
  "metadata": {
    "colab": {
      "provenance": []
    },
    "kernelspec": {
      "name": "python3",
      "display_name": "Python 3"
    },
    "language_info": {
      "name": "python"
    }
  },
  "cells": [
    {
      "cell_type": "markdown",
      "source": [
        "#step1"
      ],
      "metadata": {
        "id": "ctB5xCFghhZe"
      }
    },
    {
      "cell_type": "code",
      "source": [
        "!pip install japanize-matplotlib\n",
        "import japanize_matplotlib as jm\n",
        "import pandas as pd\n",
        "import matplotlib.pyplot as plt\n",
        "\n",
        "\n",
        "df = pd.read_csv(\"sample_pandas_6.csv\")\n",
        "\n"
      ],
      "metadata": {
        "id": "upHTx_O4Xyho",
        "colab": {
          "base_uri": "https://localhost:8080/"
        },
        "outputId": "e9ca94cd-059f-45e3-be2c-ba1e8eec400b"
      },
      "execution_count": 56,
      "outputs": [
        {
          "output_type": "stream",
          "name": "stdout",
          "text": [
            "Requirement already satisfied: japanize-matplotlib in /usr/local/lib/python3.10/dist-packages (1.1.3)\n",
            "Requirement already satisfied: matplotlib in /usr/local/lib/python3.10/dist-packages (from japanize-matplotlib) (3.7.1)\n",
            "Requirement already satisfied: contourpy>=1.0.1 in /usr/local/lib/python3.10/dist-packages (from matplotlib->japanize-matplotlib) (1.2.0)\n",
            "Requirement already satisfied: cycler>=0.10 in /usr/local/lib/python3.10/dist-packages (from matplotlib->japanize-matplotlib) (0.12.1)\n",
            "Requirement already satisfied: fonttools>=4.22.0 in /usr/local/lib/python3.10/dist-packages (from matplotlib->japanize-matplotlib) (4.46.0)\n",
            "Requirement already satisfied: kiwisolver>=1.0.1 in /usr/local/lib/python3.10/dist-packages (from matplotlib->japanize-matplotlib) (1.4.5)\n",
            "Requirement already satisfied: numpy>=1.20 in /usr/local/lib/python3.10/dist-packages (from matplotlib->japanize-matplotlib) (1.23.5)\n",
            "Requirement already satisfied: packaging>=20.0 in /usr/local/lib/python3.10/dist-packages (from matplotlib->japanize-matplotlib) (23.2)\n",
            "Requirement already satisfied: pillow>=6.2.0 in /usr/local/lib/python3.10/dist-packages (from matplotlib->japanize-matplotlib) (9.4.0)\n",
            "Requirement already satisfied: pyparsing>=2.3.1 in /usr/local/lib/python3.10/dist-packages (from matplotlib->japanize-matplotlib) (3.1.1)\n",
            "Requirement already satisfied: python-dateutil>=2.7 in /usr/local/lib/python3.10/dist-packages (from matplotlib->japanize-matplotlib) (2.8.2)\n",
            "Requirement already satisfied: six>=1.5 in /usr/local/lib/python3.10/dist-packages (from python-dateutil>=2.7->matplotlib->japanize-matplotlib) (1.16.0)\n"
          ]
        }
      ]
    },
    {
      "cell_type": "code",
      "source": [
        "def tax(x):\n",
        "    return x * 1.10\n",
        "\n",
        "df['単価'].apply(tax)"
      ],
      "metadata": {
        "colab": {
          "base_uri": "https://localhost:8080/"
        },
        "id": "926wRup6YWU_",
        "outputId": "10ee551e-0740-43db-c018-fe77d9d5f904"
      },
      "execution_count": 22,
      "outputs": [
        {
          "output_type": "execute_result",
          "data": {
            "text/plain": [
              "0      858.0\n",
              "1      858.0\n",
              "2      858.0\n",
              "3      858.0\n",
              "4      858.0\n",
              "       ...  \n",
              "195    330.0\n",
              "196    330.0\n",
              "197    330.0\n",
              "198    330.0\n",
              "199    330.0\n",
              "Name: 単価, Length: 200, dtype: float64"
            ]
          },
          "metadata": {},
          "execution_count": 22
        }
      ]
    },
    {
      "cell_type": "code",
      "source": [
        "type(pd.to_datetime(df['発注日']).loc[0])"
      ],
      "metadata": {
        "colab": {
          "base_uri": "https://localhost:8080/"
        },
        "id": "WzZAiVu6YqGf",
        "outputId": "5a6d2191-2a8a-4d03-e671-26b7b8e3e515"
      },
      "execution_count": 23,
      "outputs": [
        {
          "output_type": "execute_result",
          "data": {
            "text/plain": [
              "pandas._libs.tslibs.timestamps.Timestamp"
            ]
          },
          "metadata": {},
          "execution_count": 23
        }
      ]
    },
    {
      "cell_type": "code",
      "source": [
        "tax_series = df['単価'].apply(tax)\n",
        "tax_series.name = \"単価（税込み）\"\n",
        "pd.concat([df, tax_series], axis=1)\n"
      ],
      "metadata": {
        "colab": {
          "base_uri": "https://localhost:8080/",
          "height": 424
        },
        "id": "7P_g_cZRY8t_",
        "outputId": "8fa2d8ee-3f7c-4d70-dc6d-2c83a2ebbeed"
      },
      "execution_count": 24,
      "outputs": [
        {
          "output_type": "execute_result",
          "data": {
            "text/plain": [
              "            発注日      商品番号              商品名   単価  在庫  注文数 カテゴリー_x カテゴリー_y  \\\n",
              "0    2016-03-06  YY4HAAZR  商品サンプル YY4HAAZR  780  20   24      弁当      弁当   \n",
              "1    2017-05-31  YY4HAAZR  商品サンプル YY4HAAZR  780  10    0      弁当      弁当   \n",
              "2    2021-12-11  YY4HAAZR  商品サンプル YY4HAAZR  780  50   36      弁当      弁当   \n",
              "3    2016-09-15  YY4HAAZR  商品サンプル YY4HAAZR  780   5   54      弁当      弁当   \n",
              "4    2024-01-18  YY4HAAZR  商品サンプル YY4HAAZR  780  20   24      弁当      弁当   \n",
              "..          ...       ...              ...  ...  ..  ...     ...     ...   \n",
              "195  2019-04-29  2HSTCDWM  商品サンプル 2HSTCDWM  300  10   48    デザート    デザート   \n",
              "196  2022-11-10  2HSTCDWM  商品サンプル 2HSTCDWM  300  35   42    デザート    デザート   \n",
              "197  2015-02-08  2HSTCDWM  商品サンプル 2HSTCDWM  300   5    0    デザート    デザート   \n",
              "198  2019-03-30  2HSTCDWM  商品サンプル 2HSTCDWM  300  40   24    デザート    デザート   \n",
              "199  2022-05-15  2HSTCDWM  商品サンプル 2HSTCDWM  300  35   12    デザート    デザート   \n",
              "\n",
              "     単価（税込み）  \n",
              "0      858.0  \n",
              "1      858.0  \n",
              "2      858.0  \n",
              "3      858.0  \n",
              "4      858.0  \n",
              "..       ...  \n",
              "195    330.0  \n",
              "196    330.0  \n",
              "197    330.0  \n",
              "198    330.0  \n",
              "199    330.0  \n",
              "\n",
              "[200 rows x 9 columns]"
            ],
            "text/html": [
              "\n",
              "  <div id=\"df-0728207a-9b21-49df-9463-9e7ec8c24392\" class=\"colab-df-container\">\n",
              "    <div>\n",
              "<style scoped>\n",
              "    .dataframe tbody tr th:only-of-type {\n",
              "        vertical-align: middle;\n",
              "    }\n",
              "\n",
              "    .dataframe tbody tr th {\n",
              "        vertical-align: top;\n",
              "    }\n",
              "\n",
              "    .dataframe thead th {\n",
              "        text-align: right;\n",
              "    }\n",
              "</style>\n",
              "<table border=\"1\" class=\"dataframe\">\n",
              "  <thead>\n",
              "    <tr style=\"text-align: right;\">\n",
              "      <th></th>\n",
              "      <th>発注日</th>\n",
              "      <th>商品番号</th>\n",
              "      <th>商品名</th>\n",
              "      <th>単価</th>\n",
              "      <th>在庫</th>\n",
              "      <th>注文数</th>\n",
              "      <th>カテゴリー_x</th>\n",
              "      <th>カテゴリー_y</th>\n",
              "      <th>単価（税込み）</th>\n",
              "    </tr>\n",
              "  </thead>\n",
              "  <tbody>\n",
              "    <tr>\n",
              "      <th>0</th>\n",
              "      <td>2016-03-06</td>\n",
              "      <td>YY4HAAZR</td>\n",
              "      <td>商品サンプル YY4HAAZR</td>\n",
              "      <td>780</td>\n",
              "      <td>20</td>\n",
              "      <td>24</td>\n",
              "      <td>弁当</td>\n",
              "      <td>弁当</td>\n",
              "      <td>858.0</td>\n",
              "    </tr>\n",
              "    <tr>\n",
              "      <th>1</th>\n",
              "      <td>2017-05-31</td>\n",
              "      <td>YY4HAAZR</td>\n",
              "      <td>商品サンプル YY4HAAZR</td>\n",
              "      <td>780</td>\n",
              "      <td>10</td>\n",
              "      <td>0</td>\n",
              "      <td>弁当</td>\n",
              "      <td>弁当</td>\n",
              "      <td>858.0</td>\n",
              "    </tr>\n",
              "    <tr>\n",
              "      <th>2</th>\n",
              "      <td>2021-12-11</td>\n",
              "      <td>YY4HAAZR</td>\n",
              "      <td>商品サンプル YY4HAAZR</td>\n",
              "      <td>780</td>\n",
              "      <td>50</td>\n",
              "      <td>36</td>\n",
              "      <td>弁当</td>\n",
              "      <td>弁当</td>\n",
              "      <td>858.0</td>\n",
              "    </tr>\n",
              "    <tr>\n",
              "      <th>3</th>\n",
              "      <td>2016-09-15</td>\n",
              "      <td>YY4HAAZR</td>\n",
              "      <td>商品サンプル YY4HAAZR</td>\n",
              "      <td>780</td>\n",
              "      <td>5</td>\n",
              "      <td>54</td>\n",
              "      <td>弁当</td>\n",
              "      <td>弁当</td>\n",
              "      <td>858.0</td>\n",
              "    </tr>\n",
              "    <tr>\n",
              "      <th>4</th>\n",
              "      <td>2024-01-18</td>\n",
              "      <td>YY4HAAZR</td>\n",
              "      <td>商品サンプル YY4HAAZR</td>\n",
              "      <td>780</td>\n",
              "      <td>20</td>\n",
              "      <td>24</td>\n",
              "      <td>弁当</td>\n",
              "      <td>弁当</td>\n",
              "      <td>858.0</td>\n",
              "    </tr>\n",
              "    <tr>\n",
              "      <th>...</th>\n",
              "      <td>...</td>\n",
              "      <td>...</td>\n",
              "      <td>...</td>\n",
              "      <td>...</td>\n",
              "      <td>...</td>\n",
              "      <td>...</td>\n",
              "      <td>...</td>\n",
              "      <td>...</td>\n",
              "      <td>...</td>\n",
              "    </tr>\n",
              "    <tr>\n",
              "      <th>195</th>\n",
              "      <td>2019-04-29</td>\n",
              "      <td>2HSTCDWM</td>\n",
              "      <td>商品サンプル 2HSTCDWM</td>\n",
              "      <td>300</td>\n",
              "      <td>10</td>\n",
              "      <td>48</td>\n",
              "      <td>デザート</td>\n",
              "      <td>デザート</td>\n",
              "      <td>330.0</td>\n",
              "    </tr>\n",
              "    <tr>\n",
              "      <th>196</th>\n",
              "      <td>2022-11-10</td>\n",
              "      <td>2HSTCDWM</td>\n",
              "      <td>商品サンプル 2HSTCDWM</td>\n",
              "      <td>300</td>\n",
              "      <td>35</td>\n",
              "      <td>42</td>\n",
              "      <td>デザート</td>\n",
              "      <td>デザート</td>\n",
              "      <td>330.0</td>\n",
              "    </tr>\n",
              "    <tr>\n",
              "      <th>197</th>\n",
              "      <td>2015-02-08</td>\n",
              "      <td>2HSTCDWM</td>\n",
              "      <td>商品サンプル 2HSTCDWM</td>\n",
              "      <td>300</td>\n",
              "      <td>5</td>\n",
              "      <td>0</td>\n",
              "      <td>デザート</td>\n",
              "      <td>デザート</td>\n",
              "      <td>330.0</td>\n",
              "    </tr>\n",
              "    <tr>\n",
              "      <th>198</th>\n",
              "      <td>2019-03-30</td>\n",
              "      <td>2HSTCDWM</td>\n",
              "      <td>商品サンプル 2HSTCDWM</td>\n",
              "      <td>300</td>\n",
              "      <td>40</td>\n",
              "      <td>24</td>\n",
              "      <td>デザート</td>\n",
              "      <td>デザート</td>\n",
              "      <td>330.0</td>\n",
              "    </tr>\n",
              "    <tr>\n",
              "      <th>199</th>\n",
              "      <td>2022-05-15</td>\n",
              "      <td>2HSTCDWM</td>\n",
              "      <td>商品サンプル 2HSTCDWM</td>\n",
              "      <td>300</td>\n",
              "      <td>35</td>\n",
              "      <td>12</td>\n",
              "      <td>デザート</td>\n",
              "      <td>デザート</td>\n",
              "      <td>330.0</td>\n",
              "    </tr>\n",
              "  </tbody>\n",
              "</table>\n",
              "<p>200 rows × 9 columns</p>\n",
              "</div>\n",
              "    <div class=\"colab-df-buttons\">\n",
              "\n",
              "  <div class=\"colab-df-container\">\n",
              "    <button class=\"colab-df-convert\" onclick=\"convertToInteractive('df-0728207a-9b21-49df-9463-9e7ec8c24392')\"\n",
              "            title=\"Convert this dataframe to an interactive table.\"\n",
              "            style=\"display:none;\">\n",
              "\n",
              "  <svg xmlns=\"http://www.w3.org/2000/svg\" height=\"24px\" viewBox=\"0 -960 960 960\">\n",
              "    <path d=\"M120-120v-720h720v720H120Zm60-500h600v-160H180v160Zm220 220h160v-160H400v160Zm0 220h160v-160H400v160ZM180-400h160v-160H180v160Zm440 0h160v-160H620v160ZM180-180h160v-160H180v160Zm440 0h160v-160H620v160Z\"/>\n",
              "  </svg>\n",
              "    </button>\n",
              "\n",
              "  <style>\n",
              "    .colab-df-container {\n",
              "      display:flex;\n",
              "      gap: 12px;\n",
              "    }\n",
              "\n",
              "    .colab-df-convert {\n",
              "      background-color: #E8F0FE;\n",
              "      border: none;\n",
              "      border-radius: 50%;\n",
              "      cursor: pointer;\n",
              "      display: none;\n",
              "      fill: #1967D2;\n",
              "      height: 32px;\n",
              "      padding: 0 0 0 0;\n",
              "      width: 32px;\n",
              "    }\n",
              "\n",
              "    .colab-df-convert:hover {\n",
              "      background-color: #E2EBFA;\n",
              "      box-shadow: 0px 1px 2px rgba(60, 64, 67, 0.3), 0px 1px 3px 1px rgba(60, 64, 67, 0.15);\n",
              "      fill: #174EA6;\n",
              "    }\n",
              "\n",
              "    .colab-df-buttons div {\n",
              "      margin-bottom: 4px;\n",
              "    }\n",
              "\n",
              "    [theme=dark] .colab-df-convert {\n",
              "      background-color: #3B4455;\n",
              "      fill: #D2E3FC;\n",
              "    }\n",
              "\n",
              "    [theme=dark] .colab-df-convert:hover {\n",
              "      background-color: #434B5C;\n",
              "      box-shadow: 0px 1px 3px 1px rgba(0, 0, 0, 0.15);\n",
              "      filter: drop-shadow(0px 1px 2px rgba(0, 0, 0, 0.3));\n",
              "      fill: #FFFFFF;\n",
              "    }\n",
              "  </style>\n",
              "\n",
              "    <script>\n",
              "      const buttonEl =\n",
              "        document.querySelector('#df-0728207a-9b21-49df-9463-9e7ec8c24392 button.colab-df-convert');\n",
              "      buttonEl.style.display =\n",
              "        google.colab.kernel.accessAllowed ? 'block' : 'none';\n",
              "\n",
              "      async function convertToInteractive(key) {\n",
              "        const element = document.querySelector('#df-0728207a-9b21-49df-9463-9e7ec8c24392');\n",
              "        const dataTable =\n",
              "          await google.colab.kernel.invokeFunction('convertToInteractive',\n",
              "                                                    [key], {});\n",
              "        if (!dataTable) return;\n",
              "\n",
              "        const docLinkHtml = 'Like what you see? Visit the ' +\n",
              "          '<a target=\"_blank\" href=https://colab.research.google.com/notebooks/data_table.ipynb>data table notebook</a>'\n",
              "          + ' to learn more about interactive tables.';\n",
              "        element.innerHTML = '';\n",
              "        dataTable['output_type'] = 'display_data';\n",
              "        await google.colab.output.renderOutput(dataTable, element);\n",
              "        const docLink = document.createElement('div');\n",
              "        docLink.innerHTML = docLinkHtml;\n",
              "        element.appendChild(docLink);\n",
              "      }\n",
              "    </script>\n",
              "  </div>\n",
              "\n",
              "\n",
              "<div id=\"df-35d39a97-8edf-439e-a627-1734730c7dbe\">\n",
              "  <button class=\"colab-df-quickchart\" onclick=\"quickchart('df-35d39a97-8edf-439e-a627-1734730c7dbe')\"\n",
              "            title=\"Suggest charts\"\n",
              "            style=\"display:none;\">\n",
              "\n",
              "<svg xmlns=\"http://www.w3.org/2000/svg\" height=\"24px\"viewBox=\"0 0 24 24\"\n",
              "     width=\"24px\">\n",
              "    <g>\n",
              "        <path d=\"M19 3H5c-1.1 0-2 .9-2 2v14c0 1.1.9 2 2 2h14c1.1 0 2-.9 2-2V5c0-1.1-.9-2-2-2zM9 17H7v-7h2v7zm4 0h-2V7h2v10zm4 0h-2v-4h2v4z\"/>\n",
              "    </g>\n",
              "</svg>\n",
              "  </button>\n",
              "\n",
              "<style>\n",
              "  .colab-df-quickchart {\n",
              "      --bg-color: #E8F0FE;\n",
              "      --fill-color: #1967D2;\n",
              "      --hover-bg-color: #E2EBFA;\n",
              "      --hover-fill-color: #174EA6;\n",
              "      --disabled-fill-color: #AAA;\n",
              "      --disabled-bg-color: #DDD;\n",
              "  }\n",
              "\n",
              "  [theme=dark] .colab-df-quickchart {\n",
              "      --bg-color: #3B4455;\n",
              "      --fill-color: #D2E3FC;\n",
              "      --hover-bg-color: #434B5C;\n",
              "      --hover-fill-color: #FFFFFF;\n",
              "      --disabled-bg-color: #3B4455;\n",
              "      --disabled-fill-color: #666;\n",
              "  }\n",
              "\n",
              "  .colab-df-quickchart {\n",
              "    background-color: var(--bg-color);\n",
              "    border: none;\n",
              "    border-radius: 50%;\n",
              "    cursor: pointer;\n",
              "    display: none;\n",
              "    fill: var(--fill-color);\n",
              "    height: 32px;\n",
              "    padding: 0;\n",
              "    width: 32px;\n",
              "  }\n",
              "\n",
              "  .colab-df-quickchart:hover {\n",
              "    background-color: var(--hover-bg-color);\n",
              "    box-shadow: 0 1px 2px rgba(60, 64, 67, 0.3), 0 1px 3px 1px rgba(60, 64, 67, 0.15);\n",
              "    fill: var(--button-hover-fill-color);\n",
              "  }\n",
              "\n",
              "  .colab-df-quickchart-complete:disabled,\n",
              "  .colab-df-quickchart-complete:disabled:hover {\n",
              "    background-color: var(--disabled-bg-color);\n",
              "    fill: var(--disabled-fill-color);\n",
              "    box-shadow: none;\n",
              "  }\n",
              "\n",
              "  .colab-df-spinner {\n",
              "    border: 2px solid var(--fill-color);\n",
              "    border-color: transparent;\n",
              "    border-bottom-color: var(--fill-color);\n",
              "    animation:\n",
              "      spin 1s steps(1) infinite;\n",
              "  }\n",
              "\n",
              "  @keyframes spin {\n",
              "    0% {\n",
              "      border-color: transparent;\n",
              "      border-bottom-color: var(--fill-color);\n",
              "      border-left-color: var(--fill-color);\n",
              "    }\n",
              "    20% {\n",
              "      border-color: transparent;\n",
              "      border-left-color: var(--fill-color);\n",
              "      border-top-color: var(--fill-color);\n",
              "    }\n",
              "    30% {\n",
              "      border-color: transparent;\n",
              "      border-left-color: var(--fill-color);\n",
              "      border-top-color: var(--fill-color);\n",
              "      border-right-color: var(--fill-color);\n",
              "    }\n",
              "    40% {\n",
              "      border-color: transparent;\n",
              "      border-right-color: var(--fill-color);\n",
              "      border-top-color: var(--fill-color);\n",
              "    }\n",
              "    60% {\n",
              "      border-color: transparent;\n",
              "      border-right-color: var(--fill-color);\n",
              "    }\n",
              "    80% {\n",
              "      border-color: transparent;\n",
              "      border-right-color: var(--fill-color);\n",
              "      border-bottom-color: var(--fill-color);\n",
              "    }\n",
              "    90% {\n",
              "      border-color: transparent;\n",
              "      border-bottom-color: var(--fill-color);\n",
              "    }\n",
              "  }\n",
              "</style>\n",
              "\n",
              "  <script>\n",
              "    async function quickchart(key) {\n",
              "      const quickchartButtonEl =\n",
              "        document.querySelector('#' + key + ' button');\n",
              "      quickchartButtonEl.disabled = true;  // To prevent multiple clicks.\n",
              "      quickchartButtonEl.classList.add('colab-df-spinner');\n",
              "      try {\n",
              "        const charts = await google.colab.kernel.invokeFunction(\n",
              "            'suggestCharts', [key], {});\n",
              "      } catch (error) {\n",
              "        console.error('Error during call to suggestCharts:', error);\n",
              "      }\n",
              "      quickchartButtonEl.classList.remove('colab-df-spinner');\n",
              "      quickchartButtonEl.classList.add('colab-df-quickchart-complete');\n",
              "    }\n",
              "    (() => {\n",
              "      let quickchartButtonEl =\n",
              "        document.querySelector('#df-35d39a97-8edf-439e-a627-1734730c7dbe button');\n",
              "      quickchartButtonEl.style.display =\n",
              "        google.colab.kernel.accessAllowed ? 'block' : 'none';\n",
              "    })();\n",
              "  </script>\n",
              "</div>\n",
              "\n",
              "    </div>\n",
              "  </div>\n"
            ]
          },
          "metadata": {},
          "execution_count": 24
        }
      ]
    },
    {
      "cell_type": "code",
      "source": [
        "category_df = pd.read_csv('category.csv')\n",
        "\n"
      ],
      "metadata": {
        "id": "K4HPM1aBZWrg"
      },
      "execution_count": 25,
      "outputs": []
    },
    {
      "cell_type": "markdown",
      "source": [
        "#step2"
      ],
      "metadata": {
        "id": "XvQMZoPmjV92"
      }
    },
    {
      "cell_type": "code",
      "source": [
        "df = pd.merge(df, category_df[['商品番号', 'カテゴリー']], how='inner', on='商品番号')\n"
      ],
      "metadata": {
        "id": "YZRDkhUKZ0Pv"
      },
      "execution_count": 61,
      "outputs": []
    },
    {
      "cell_type": "code",
      "source": [
        "value_counts = df['カテゴリー'].value_counts()"
      ],
      "metadata": {
        "id": "ncvGtYgwZqDa"
      },
      "execution_count": 62,
      "outputs": []
    },
    {
      "cell_type": "code",
      "source": [
        "value_counts.plot(kind='bar')"
      ],
      "metadata": {
        "colab": {
          "base_uri": "https://localhost:8080/",
          "height": 502
        },
        "id": "yUBBFYb3lZsI",
        "outputId": "ea814b5e-1c46-4f40-c8b7-1e5aacf480d8"
      },
      "execution_count": 63,
      "outputs": [
        {
          "output_type": "execute_result",
          "data": {
            "text/plain": [
              "<Axes: >"
            ]
          },
          "metadata": {},
          "execution_count": 63
        },
        {
          "output_type": "display_data",
          "data": {
            "text/plain": [
              "<Figure size 640x480 with 1 Axes>"
            ],
            "image/png": "[encoded data removed]"
          },
          "metadata": {}
        }
      ]
    },
    {
      "cell_type": "markdown",
      "source": [
        "#step3\n"
      ],
      "metadata": {
        "id": "Xm1eKoTQktS3"
      }
    },
    {
      "cell_type": "code",
      "source": [
        "plt.title('商品カテゴリーごとの出現回数')\n",
        "plt.xlabel('カテゴリー')\n",
        "plt.ylabel('出現回数')\n",
        "plt.show(value_counts.plot(kind='bar'))"
      ],
      "metadata": {
        "id": "4wG-tyfU0HuE",
        "colab": {
          "base_uri": "https://localhost:8080/",
          "height": 525
        },
        "outputId": "ff8cb804-78e1-4ca2-9d21-d054ddd62486"
      },
      "execution_count": 70,
      "outputs": [
        {
          "output_type": "display_data",
          "data": {
            "text/plain": [
              "<Figure size 640x480 with 1 Axes>"
            ],
            "image/png": "[encoded data removed]"
          },
          "metadata": {}
        }
      ]
    },
    {
      "cell_type": "markdown",
      "source": [
        "#step4"
      ],
      "metadata": {
        "id": "V3FI--b0mnkt"
      }
    },
    {
      "cell_type": "code",
      "source": [
        "price_aggregated = df.groupby('商品番号')['注文数'].describe()\n"
      ],
      "metadata": {
        "id": "c7h1pkRhAb78"
      },
      "execution_count": 16,
      "outputs": []
    },
    {
      "cell_type": "code",
      "source": [
        "print(price_aggregated)"
      ],
      "metadata": {
        "colab": {
          "base_uri": "https://localhost:8080/"
        },
        "id": "dzCzABfezY32",
        "outputId": "8c7fd1b7-ac64-4143-84eb-3b3b634bcc8c"
      },
      "execution_count": 36,
      "outputs": [
        {
          "output_type": "stream",
          "name": "stdout",
          "text": [
            "          count       mean        std  min   25%   50%   75%   max\n",
            "商品番号                                                              \n",
            "1QJFO8QY   32.0  35.250000  18.461818  0.0  24.0  36.0  49.5  60.0\n",
            "2HSTCDWM   20.0  29.400000  21.137146  0.0  12.0  27.0  48.0  60.0\n",
            "48XMJXKO   10.0  21.600000  13.326665  0.0  13.5  21.0  30.0  42.0\n",
            "8T7D5DQA   21.0  25.142857  18.260027  0.0  12.0  36.0  42.0  54.0\n",
            "MESUDVWQ   17.0  43.764706  18.219253  0.0  42.0  48.0  54.0  60.0\n",
            "QRMOGNUU   27.0  33.111111  16.588535  6.0  21.0  36.0  48.0  60.0\n",
            "S6RE8W6X   20.0  33.300000  21.631118  0.0  12.0  39.0  54.0  60.0\n",
            "X0ZE2ZMY   14.0  21.857143  21.901377  0.0   1.5  15.0  39.0  60.0\n",
            "YY4HAAZR   17.0  31.764706  18.095336  0.0  18.0  30.0  42.0  60.0\n",
            "Z4WOOIYV   22.0  26.727273  19.218498  0.0  12.0  24.0  42.0  60.0\n"
          ]
        }
      ]
    }
  ]
}